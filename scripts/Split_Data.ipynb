{
 "cells": [
  {
   "cell_type": "code",
   "execution_count": 1,
   "metadata": {},
   "outputs": [],
   "source": [
    "# import opensim as osim\n",
    "import numpy as np\n",
    "import matplotlib.pyplot as plt\n",
    "from scipy.interpolate import interp1d\n",
    "from data_utils import *"
   ]
  },
  {
   "cell_type": "code",
   "execution_count": 2,
   "metadata": {},
   "outputs": [],
   "source": [
    "data_dir = '../data/'\n",
    "\n",
    "# load the data\n",
    "grf_data = np.load(data_dir + 'grf.npy', mmap_mode='r')\n",
    "muscle_data = np.load(data_dir + 'muscle.npy', mmap_mode='r')\n",
    "\n",
    "grf_labels = ['GRF_x', 'GRF_y', 'GRF_z']\n",
    "muscle_labels = ['tibpost', 'tibant', 'edl', 'ehl', 'fdl', 'fhl', 'perbrev', 'perlong', 'achilles']\n",
    "\n",
    "grf_dict = {0: 'GRF_x', 1: 'GRF_y', 2: 'GRF_z'}\n",
    "muscle_dict = {0: 'tibpost', 1: 'tibant', 2: 'edl', 3: 'ehl', 4: 'fdl', 5: 'fhl', 6: 'perbrev', 7: 'perlong', 8: 'achilles'}"
   ]
  },
  {
   "cell_type": "code",
   "execution_count": 3,
   "metadata": {},
   "outputs": [],
   "source": [
    "data = np.concatenate((grf_data, muscle_data), axis=2)\n",
    "# print(data.shape)\n",
    "\n",
    "np.random.seed(42)\n",
    "np.random.shuffle(data)"
   ]
  },
  {
   "cell_type": "code",
   "execution_count": 4,
   "metadata": {},
   "outputs": [
    {
     "name": "stdout",
     "output_type": "stream",
     "text": [
      "Number of samples: 13388\n",
      "Train size: 10710\n",
      "Validation size: 1338\n"
     ]
    }
   ],
   "source": [
    "num_samples = data.shape[0]\n",
    "train_size = int(0.8 * num_samples)\n",
    "val_size = int(0.1 * num_samples)\n",
    "\n",
    "print(f\"Number of samples: {num_samples}\")\n",
    "print(f\"Train size: {train_size}\")\n",
    "print(f\"Validation size: {val_size}\")"
   ]
  },
  {
   "cell_type": "code",
   "execution_count": 5,
   "metadata": {},
   "outputs": [
    {
     "name": "stdout",
     "output_type": "stream",
     "text": [
      "Train data shape: (10710, 100, 12)\n",
      "Validation data shape: (1338, 100, 12)\n",
      "Test data shape: (1340, 100, 12)\n"
     ]
    }
   ],
   "source": [
    "train_data = data[:train_size]\n",
    "val_data = data[train_size:train_size+val_size]\n",
    "test_data = data[train_size+val_size:]\n",
    "\n",
    "print(f\"Train data shape: {train_data.shape}\")\n",
    "print(f\"Validation data shape: {val_data.shape}\")\n",
    "print(f\"Test data shape: {test_data.shape}\")"
   ]
  },
  {
   "cell_type": "code",
   "execution_count": 6,
   "metadata": {},
   "outputs": [
    {
     "name": "stdout",
     "output_type": "stream",
     "text": [
      "X_train shape: (10710, 100, 3)\n",
      "y_train shape: (10710, 100, 9)\n",
      "X_val shape: (1338, 100, 3)\n",
      "y_val shape: (1338, 100, 9)\n",
      "X_test shape: (1340, 100, 3)\n",
      "y_test shape: (1340, 100, 9)\n"
     ]
    }
   ],
   "source": [
    "X_train, y_train = train_data[:, :, :3], train_data[:, :, 3:]\n",
    "X_val, y_val = val_data[:, :, :3], val_data[:, :, 3:]\n",
    "X_test, y_test = test_data[:, :, :3], test_data[:, :, 3:]\n",
    "\n",
    "print(f\"X_train shape: {X_train.shape}\")\n",
    "print(f\"y_train shape: {y_train.shape}\")\n",
    "print(f\"X_val shape: {X_val.shape}\")\n",
    "print(f\"y_val shape: {y_val.shape}\")\n",
    "print(f\"X_test shape: {X_test.shape}\")\n",
    "print(f\"y_test shape: {y_test.shape}\")"
   ]
  },
  {
   "cell_type": "code",
   "execution_count": 7,
   "metadata": {},
   "outputs": [],
   "source": [
    "np.savez(data_dir + 'train_data.npz', X_train=X_train, y_train=y_train)\n",
    "np.savez(data_dir + 'val_data.npz', X_val=X_val, y_val=y_val)\n",
    "np.savez(data_dir + 'test_data.npz', X_test=X_test, y_test=y_test)"
   ]
  }
 ],
 "metadata": {
  "kernelspec": {
   "display_name": "pytorch",
   "language": "python",
   "name": "python3"
  },
  "language_info": {
   "codemirror_mode": {
    "name": "ipython",
    "version": 3
   },
   "file_extension": ".py",
   "mimetype": "text/x-python",
   "name": "python",
   "nbconvert_exporter": "python",
   "pygments_lexer": "ipython3",
   "version": "3.11.10"
  }
 },
 "nbformat": 4,
 "nbformat_minor": 2
}
